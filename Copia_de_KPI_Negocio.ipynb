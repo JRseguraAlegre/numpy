{
  "cells": [
    {
      "cell_type": "markdown",
      "metadata": {
        "id": "view-in-github",
        "colab_type": "text"
      },
      "source": [
        "<a href=\"https://colab.research.google.com/github/JRseguraAlegre/numpy/blob/main/Copia_de_KPI_Negocio.ipynb\" target=\"_parent\"><img src=\"https://colab.research.google.com/assets/colab-badge.svg\" alt=\"Open In Colab\"/></a>"
      ]
    },
    {
      "cell_type": "markdown",
      "id": "b784a436",
      "metadata": {
        "id": "b784a436"
      },
      "source": [
        "# Clase de Data Analytics: Ejercicios y CSV Sintético\n",
        "\n",
        "Este notebook abarca varios ejercicios enfocados en análisis de datos y visualización. Se revisan conceptos como tasas de conversión, embudos de marketing y análisis de cohortes. Además, se generan archivos CSV sintéticos que servirán de fuente para los ejercicios prácticos. Cada sección incluye una breve explicación teórica y comentarios en el código para facilitar la comprensión."
      ]
    },
    {
      "cell_type": "markdown",
      "id": "efaceca6",
      "metadata": {
        "id": "efaceca6"
      },
      "source": [
        "## Generación de CSVs sintéticos\n",
        "\n",
        "Antes de comenzar con los ejercicios, se generan datos sintéticos en varios archivos CSV que se almacenarán en la carpeta `datasets`. Estos datos simulan escenarios reales (como impresiones, clics, registros y eventos) y se utilizarán en los ejercicios posteriores para analizar embudos y cohortes."
      ]
    },
    {
      "cell_type": "code",
      "execution_count": null,
      "id": "6c05893a",
      "metadata": {
        "id": "6c05893a"
      },
      "outputs": [],
      "source": [
        "import os\n",
        "import pandas as pd\n",
        "import numpy as np\n",
        "\n",
        "# Crear la carpeta 'datasets' si no existe\n",
        "os.makedirs(\"datasets\", exist_ok=True)\n",
        "\n",
        "# --- ad_data.csv ---\n",
        "# Simula datos de publicidad: fecha, impresiones y clics\n",
        "dates = pd.date_range(start=\"2022-01-01\", periods=10, freq=\"D\")\n",
        "ad_data = pd.DataFrame({\n",
        "    \"date\": dates.strftime(\"%Y-%m-%d\"),\n",
        "    \"impressions\": np.random.randint(1000, 5000, size=10),\n",
        "    \"clicks\": np.random.randint(50, 300, size=10)\n",
        "})\n",
        "ad_data.to_csv(\"datasets/ad_data.csv\", index=False)\n",
        "\n",
        "# --- site_data.csv ---\n",
        "# Simula datos del sitio: fecha y número de registros\n",
        "site_data = pd.DataFrame({\n",
        "    \"date\": dates.strftime(\"%Y-%m-%d\"),\n",
        "    \"registrations\": np.random.randint(10, 100, size=10)\n",
        "})\n",
        "site_data.to_csv(\"datasets/site_data.csv\", index=False)\n",
        "\n",
        "# --- funnel_daily.csv --- (14 días)\n",
        "# Datos diarios para analizar embudos, con impresiones, clics y registros\n",
        "dates_daily = pd.date_range(start=\"2022-01-01\", periods=14, freq=\"D\")\n",
        "funnel_daily = pd.DataFrame({\n",
        "    \"date\": dates_daily.strftime(\"%Y-%m-%d\"),\n",
        "    \"impressions\": np.random.randint(1000, 5000, size=14),\n",
        "    \"clicks\": np.random.randint(50, 300, size=14),\n",
        "    \"registrations\": np.random.randint(5, 100, size=14)\n",
        "})\n",
        "funnel_daily.to_csv(\"datasets/funnel_daily.csv\", index=False)\n",
        "\n",
        "# --- ad_data_2.csv ---\n",
        "# Otro set de datos de publicidad para ejercicios adicionales\n",
        "ad_data_2 = pd.DataFrame({\n",
        "    \"date\": dates.strftime(\"%Y-%m-%d\"),\n",
        "    \"impressions\": np.random.randint(1000, 5000, size=10),\n",
        "    \"clicks\": np.random.randint(50, 300, size=10)\n",
        "})\n",
        "ad_data_2.to_csv(\"datasets/ad_data_2.csv\", index=False)\n",
        "\n",
        "# --- site_data_2.csv ---\n",
        "# Otro set de datos del sitio para ejercicios adicionales\n",
        "site_data_2 = pd.DataFrame({\n",
        "    \"date\": dates.strftime(\"%Y-%m-%d\"),\n",
        "    \"registrations\": np.random.randint(10, 100, size=10)\n",
        "})\n",
        "site_data_2.to_csv(\"datasets/site_data_2.csv\", index=False)\n",
        "\n",
        "# --- funnel_prod_events.csv ---\n",
        "# Datos para analizar embudos de producto simples\n",
        "funnel_prod_events = pd.DataFrame({\n",
        "    \"event_name\": np.random.choice([\"chat_message\", \"pageview\", \"success\"], size=50),\n",
        "    \"uid\": np.random.randint(100, 200, size=50)\n",
        "})\n",
        "funnel_prod_events.to_csv(\"datasets/funnel_prod_events.csv\", index=False)\n",
        "\n",
        "# --- events.csv ---\n",
        "# Datos para secuencia de eventos en embudos de producto\n",
        "uids = np.arange(1, 11)\n",
        "records = []\n",
        "for uid in uids:\n",
        "    # Genera un tiempo base para cada usuario\n",
        "    base_time = pd.Timestamp(\"2022-01-01 08:00:00\") + pd.Timedelta(minutes=np.random.randint(0, 60))\n",
        "    records.append({\"uid\": uid, \"event_name\": \"pageview\", \"event_time\": base_time})\n",
        "    if np.random.rand() > 0.3:\n",
        "        time_add = base_time + pd.Timedelta(minutes=5)\n",
        "        records.append({\"uid\": uid, \"event_name\": \"add_to_cart\", \"event_time\": time_add})\n",
        "    if np.random.rand() > 0.5:\n",
        "        time_checkout = base_time + pd.Timedelta(minutes=10)\n",
        "        records.append({\"uid\": uid, \"event_name\": \"checkout\", \"event_time\": time_checkout})\n",
        "    if np.random.rand() > 0.7:\n",
        "        time_payment = base_time + pd.Timedelta(minutes=15)\n",
        "        records.append({\"uid\": uid, \"event_name\": \"payment\", \"event_time\": time_payment})\n",
        "events_df = pd.DataFrame(records)\n",
        "events_df.to_csv(\"datasets/events.csv\", index=False)\n",
        "\n",
        "# --- game_purchases.csv ---\n",
        "# Datos de compras de juegos para análisis de cohortes\n",
        "player_ids = np.arange(1, 21)\n",
        "purchases_records = []\n",
        "purchase_id = 1000\n",
        "for player in player_ids:\n",
        "    num_purchases = np.random.randint(1, 5)\n",
        "    for i in range(num_purchases):\n",
        "        purchase_datetime = pd.Timestamp(\"2022-01-01\") + pd.Timedelta(days=np.random.randint(0, 60))\n",
        "        price = np.round(np.random.uniform(0.99, 49.99), 2)\n",
        "        purchases_records.append({\n",
        "            \"player_id\": player,\n",
        "            \"purchase_datetime\": purchase_datetime,\n",
        "            \"price\": price,\n",
        "            \"purchase_id\": purchase_id\n",
        "        })\n",
        "        purchase_id += 1\n",
        "game_purchases = pd.DataFrame(purchases_records)\n",
        "game_purchases.to_csv(\"datasets/game_purchases.csv\", index=False)\n",
        "\n",
        "# --- revenue_pivot.csv ---\n",
        "# Datos para visualizar el tamaño promedio de compra en cohortes\n",
        "revenue_pivot = pd.DataFrame({\n",
        "    \"first_order_month\": [\"2022-01\", \"2022-02\", \"2022-03\"],\n",
        "    \"0\": [50.5, 60.2, 70.1],\n",
        "    \"1\": [45.3, 55.1, 65.4],\n",
        "    \"2\": [40.0, 50.0, 60.0]\n",
        "})\n",
        "revenue_pivot.to_csv(\"datasets/revenue_pivot.csv\", index=False)\n",
        "\n",
        "# --- work_user_activity.csv ---\n",
        "# Datos de actividad de usuario para analizar retención y churn\n",
        "user_ids = np.arange(1, 11)\n",
        "activity_records = []\n",
        "for uid in user_ids:\n",
        "    num_activities = np.random.randint(3, 10)\n",
        "    start_date = pd.Timestamp(\"2022-01-01\") + pd.Timedelta(days=np.random.randint(0, 10))\n",
        "    for i in range(num_activities):\n",
        "        activity_date = start_date + pd.Timedelta(days=np.random.randint(0, 30))\n",
        "        activity_records.append({\n",
        "            \"user_id\": uid,\n",
        "            \"activity_date\": activity_date\n",
        "        })\n",
        "user_activity = pd.DataFrame(activity_records)\n",
        "user_activity.to_csv(\"datasets/work_user_activity.csv\", index=False)\n",
        "\n",
        "# --- churn_rate.csv ---\n",
        "# Datos para calcular la tasa de cancelación (churn rate)\n",
        "churn_rate = pd.DataFrame({\n",
        "    \"first_event_week\": [\"2022-01-03\", \"2022-01-10\", \"2022-01-17\"],\n",
        "    \"lifetime\": [0, 1, 2],\n",
        "    \"users_count\": [100, 80, 60]\n",
        "})\n",
        "churn_rate.to_csv(\"datasets/churn_rate.csv\", index=False)\n",
        "\n",
        "# --- coffee_home.csv ---\n",
        "# Datos de consumo de café para análisis de cohortes comportamentales\n",
        "coffee_records = []\n",
        "for uid in np.arange(1, 11):\n",
        "    first_coffee_datetime = pd.Timestamp(\"2022-01-01\") + pd.Timedelta(days=np.random.randint(0, 5))\n",
        "    num_coffees = np.random.randint(1, 8)\n",
        "    for i in range(num_coffees):\n",
        "        coffee_time = first_coffee_datetime + pd.Timedelta(days=np.random.randint(0, 30))\n",
        "        coffee_records.append({\n",
        "            \"user_id\": uid,\n",
        "            \"coffee_time\": coffee_time,\n",
        "            \"first_coffee_datetime\": first_coffee_datetime\n",
        "        })\n",
        "coffee_home = pd.DataFrame(coffee_records)\n",
        "coffee_home.to_csv(\"datasets/coffee_home.csv\", index=False)\n",
        "\n",
        "print(\"CSV sintéticos generados en la carpeta 'datasets'\")"
      ]
    },
    {
      "cell_type": "markdown",
      "id": "798c68b3",
      "metadata": {
        "id": "798c68b3"
      },
      "source": [
        "## Ejercicio 1: Tasa de conversión\n",
        "\n",
        "### Concepto teórico:\n",
        "La **tasa de conversión** es una métrica que permite medir el porcentaje de visitantes o usuarios que realizan una acción deseada (por ejemplo, una compra). Es fundamental en marketing digital para evaluar la eficacia de una campaña o la experiencia del usuario en una tienda.\n",
        "\n",
        "### En este ejercicio:\n",
        "Se muestran las tasas de conversión de dos tiendas (Store Sun y Store Moon) a lo largo de 10 días utilizando gráficos de línea, lo que permite comparar visualmente la evolución de las conversiones."
      ]
    },
    {
      "cell_type": "code",
      "execution_count": null,
      "id": "cc33e744",
      "metadata": {
        "id": "cc33e744"
      },
      "outputs": [],
      "source": [
        "import seaborn as sns\n",
        "import matplotlib.pyplot as plt\n",
        "\n",
        "# Definir días y tasas de conversión para cada tienda\n",
        "days = [1, 2, 3, 4, 5, 6, 7, 8, 9, 10]\n",
        "store_sun = [40, 45, 17, 36, 14, 30, 33, 19, 48, 25]\n",
        "store_moon = [19, 14, 37, 31, 26, 11, 43, 45, 50, 48]\n",
        "\n",
        "# Crear el gráfico de líneas para cada tienda\n",
        "ax = sns.lineplot(x=days, y=store_sun, label='Store Sun')\n",
        "sns.lineplot(x=days, y=store_moon, label='Store Moon')\n",
        "\n",
        "# Configurar etiquetas y título del gráfico\n",
        "plt.xlabel('Día')  # Eje X: Días\n",
        "plt.ylabel('Tasa de conversión')  # Eje Y: Tasa de conversión\n",
        "plt.title('Tasa de conversión de tiendas en 10 días')\n",
        "\n",
        "# Ajustar límites de los ejes para mejorar la visualización\n",
        "ax.set_xlim(0, 10)\n",
        "ax.set_ylim(0, 100)\n",
        "\n",
        "# Mostrar la leyenda y el gráfico\n",
        "plt.legend()\n",
        "plt.show()"
      ]
    },
    {
      "cell_type": "markdown",
      "id": "d7fb5e53",
      "metadata": {
        "id": "d7fb5e53"
      },
      "source": [
        "## Ejercicio 2: Embudos\n",
        "\n",
        "### Concepto teórico:\n",
        "Un **embudo de conversión** es una representación gráfica que muestra las diferentes etapas que atraviesa un usuario antes de completar una acción (por ejemplo, comprar un producto). Permite identificar en qué punto se pierden los usuarios y optimizar el proceso.\n",
        "\n",
        "### En este ejercicio:\n",
        "Se visualiza el embudo de compra de la tienda Store Sun utilizando un gráfico de barras sobre un fondo oscuro, mostrando las etapas del proceso (desde la página principal hasta el pedido)."
      ]
    },
    {
      "cell_type": "code",
      "execution_count": null,
      "id": "ef165638",
      "metadata": {
        "id": "ef165638"
      },
      "outputs": [],
      "source": [
        "import seaborn as sns\n",
        "import matplotlib.pyplot as plt\n",
        "import pandas as pd\n",
        "\n",
        "# Datos para cada etapa del embudo de compra\n",
        "data = {\n",
        "    'Stage': ['Main page', 'Product page', 'Added to cart', 'Checkout page', 'Order'],\n",
        "    'Quantity': [1525, 953, 595, 372, 232]\n",
        "}\n",
        "\n",
        "# Crear un DataFrame a partir de los datos\n",
        "df = pd.DataFrame(data)\n",
        "\n",
        "df.head()"
      ]
    },
    {
      "cell_type": "code",
      "execution_count": null,
      "id": "2e138daf-1cbe-45c6-8495-e9e70d308cc4",
      "metadata": {
        "id": "2e138daf-1cbe-45c6-8495-e9e70d308cc4"
      },
      "outputs": [],
      "source": [
        "# Aplicar un estilo de fondo oscuro para el gráfico\n",
        "plt.style.use(\"dark_background\")\n",
        "\n",
        "# Crear un gráfico de barras con los datos\n",
        "sns.barplot(x='Stage', y='Quantity', data=df)\n",
        "\n",
        "# Configurar etiquetas y título\n",
        "plt.xlabel('Stage')\n",
        "plt.ylabel('Quantity')\n",
        "plt.title('Purchase Funnel for Store Sun')\n",
        "\n",
        "# Mostrar el gráfico\n",
        "plt.show()"
      ]
    },
    {
      "cell_type": "markdown",
      "id": "790491af",
      "metadata": {
        "id": "790491af"
      },
      "source": [
        "## Ejercicio 3: Embudo de marketing (impresiones, clics, CTR y CR)\n",
        "\n",
        "### Concepto teórico:\n",
        "El análisis del embudo de marketing permite evaluar la eficiencia de una campaña publicitaria midiendo métricas como:\n",
        "- **CTR (Click Through Rate):** Porcentaje de impresiones que generan clics.\n",
        "- **CR (Conversion Rate):** Porcentaje de clics que se convierten en registros o ventas.\n",
        "\n",
        "### En este ejercicio:\n",
        "Se combinan dos fuentes de datos para calcular el CTR y CR, lo cual ayuda a identificar la efectividad de las campañas de publicidad y optimizar el embudo de marketing."
      ]
    },
    {
      "cell_type": "code",
      "execution_count": null,
      "id": "be3098df-b331-4890-8fc6-572ac290670f",
      "metadata": {
        "id": "be3098df-b331-4890-8fc6-572ac290670f"
      },
      "outputs": [],
      "source": [
        "import pandas as pd\n",
        "\n",
        "# Leer los datos de publicidad y sitio web\n",
        "ad_data = pd.read_csv(\"datasets/ad_data.csv\")\n",
        "site_data = pd.read_csv(\"datasets/site_data.csv\")\n"
      ]
    },
    {
      "cell_type": "code",
      "execution_count": null,
      "id": "572183c9-f0cb-43b6-b8c5-6dc8aeafaa16",
      "metadata": {
        "id": "572183c9-f0cb-43b6-b8c5-6dc8aeafaa16"
      },
      "outputs": [],
      "source": [
        "site_data"
      ]
    },
    {
      "cell_type": "code",
      "execution_count": null,
      "id": "2c2a39cd-1ed6-4b15-a3ba-feb069fe88a1",
      "metadata": {
        "id": "2c2a39cd-1ed6-4b15-a3ba-feb069fe88a1"
      },
      "outputs": [],
      "source": [
        "# Combinar ambos datasets utilizando la columna 'date'\n",
        "funnel = pd.merge(ad_data, site_data, on='date')"
      ]
    },
    {
      "cell_type": "code",
      "execution_count": null,
      "id": "3bb94f71-bf6a-4251-ad80-434ba7b5b4c3",
      "metadata": {
        "id": "3bb94f71-bf6a-4251-ad80-434ba7b5b4c3"
      },
      "outputs": [],
      "source": [
        "funnel.head()"
      ]
    },
    {
      "cell_type": "code",
      "execution_count": null,
      "id": "32671073",
      "metadata": {
        "id": "32671073"
      },
      "outputs": [],
      "source": [
        "# Calcular CTR y CR\n",
        "funnel['ctr, %'] = funnel['clicks'] / funnel['impressions'] * 100\n",
        "funnel['cr, %'] = funnel['registrations'] / funnel['clicks'] * 100\n",
        "\n",
        "# Mostrar las primeras filas del DataFrame resultante\n",
        "\n",
        "funnel.head(10)"
      ]
    },
    {
      "cell_type": "code",
      "execution_count": null,
      "id": "a6b28459-ac28-4c4b-ab41-a6c3b036b79d",
      "metadata": {
        "id": "a6b28459-ac28-4c4b-ab41-a6c3b036b79d"
      },
      "outputs": [],
      "source": [
        "funnel.describe()"
      ]
    },
    {
      "cell_type": "markdown",
      "id": "5d1306c9",
      "metadata": {
        "id": "5d1306c9"
      },
      "source": [
        "## Ejercicio 4: Embudo de marketing – Agrupación por semanas y meses\n",
        "\n",
        "### Concepto teórico:\n",
        "Agrupar datos por intervalos (semanas o meses) es fundamental para detectar tendencias a lo largo del tiempo. En el contexto de embudos de marketing, esto permite evaluar cómo varían las métricas (CTR y CR) en diferentes periodos y tomar decisiones basadas en patrones temporales.\n",
        "\n",
        "### En este ejercicio:\n",
        "Se agrupan los datos diarios para calcular métricas semanales y mensuales, facilitando el análisis de la evolución de las campañas publicitarias."
      ]
    },
    {
      "cell_type": "code",
      "execution_count": null,
      "id": "d8e8a82c-c612-44b8-9bd8-e579d4a36889",
      "metadata": {
        "id": "d8e8a82c-c612-44b8-9bd8-e579d4a36889"
      },
      "outputs": [],
      "source": [
        "import pandas as pd\n",
        "\n",
        "# Leer el archivo CSV con datos diarios\n",
        "funnel_daily = pd.read_csv(\"datasets/funnel_daily.csv\")"
      ]
    },
    {
      "cell_type": "code",
      "execution_count": null,
      "id": "65b5d3b1-d67f-4853-abee-84a8c38bb169",
      "metadata": {
        "id": "65b5d3b1-d67f-4853-abee-84a8c38bb169"
      },
      "outputs": [],
      "source": [
        "funnel_daily.head()"
      ]
    },
    {
      "cell_type": "code",
      "execution_count": null,
      "id": "90ef5701-a642-4ebd-b772-c4d931de5a7e",
      "metadata": {
        "id": "90ef5701-a642-4ebd-b772-c4d931de5a7e"
      },
      "outputs": [],
      "source": [
        "funnel_daily.info()"
      ]
    },
    {
      "cell_type": "code",
      "execution_count": null,
      "id": "a68a1b0e-93bb-41ed-9a56-6b441bca2bde",
      "metadata": {
        "id": "a68a1b0e-93bb-41ed-9a56-6b441bca2bde"
      },
      "outputs": [],
      "source": [
        "# Convertir la columna 'date' a tipo datetime y extraer la semana\n",
        "funnel_daily['date'] = pd.to_datetime(funnel_daily['date'])"
      ]
    },
    {
      "cell_type": "code",
      "execution_count": null,
      "id": "4e469437-9956-4747-a328-a8be521b11e6",
      "metadata": {
        "id": "4e469437-9956-4747-a328-a8be521b11e6"
      },
      "outputs": [],
      "source": [
        "funnel_daily.info()"
      ]
    },
    {
      "cell_type": "code",
      "execution_count": null,
      "id": "1572f901-bd8c-41bf-b7ee-15d0bdc5dbca",
      "metadata": {
        "id": "1572f901-bd8c-41bf-b7ee-15d0bdc5dbca"
      },
      "outputs": [],
      "source": [
        "funnel_daily['week'] = funnel_daily['date'].dt.isocalendar().week\n",
        "funnel_daily['year'] = funnel_daily['date'].dt.isocalendar().year"
      ]
    },
    {
      "cell_type": "code",
      "execution_count": null,
      "id": "9e8e40c1-d59b-48cf-92ac-3bd1735ea141",
      "metadata": {
        "id": "9e8e40c1-d59b-48cf-92ac-3bd1735ea141"
      },
      "outputs": [],
      "source": [
        "funnel_daily.head()"
      ]
    },
    {
      "cell_type": "code",
      "execution_count": null,
      "id": "58fcd999-5316-4417-aab5-910e609ac315",
      "metadata": {
        "id": "58fcd999-5316-4417-aab5-910e609ac315"
      },
      "outputs": [],
      "source": [
        "funnel_weekly = funnel_daily.groupby(['year','week'])[['impressions', 'clicks', 'registrations']].sum().reset_index()\n",
        "funnel_weekly"
      ]
    },
    {
      "cell_type": "code",
      "execution_count": null,
      "id": "2d155e6e-6b2d-4c12-80c2-4acce8e79204",
      "metadata": {
        "id": "2d155e6e-6b2d-4c12-80c2-4acce8e79204"
      },
      "outputs": [],
      "source": [
        "# Agrupar por semana y sumar las métricas\n",
        "funnel_weekly = funnel_daily.groupby('week')[['impressions', 'clicks', 'registrations']].sum()\n",
        "funnel_weekly['ctr, %'] = (funnel_weekly['clicks'] / funnel_weekly['impressions'] * 100)\n",
        "funnel_weekly['cr, %'] = (funnel_weekly['registrations'] / funnel_weekly['clicks'] * 100)\n",
        "funnel_weekly"
      ]
    },
    {
      "cell_type": "code",
      "execution_count": null,
      "id": "572b9581",
      "metadata": {
        "id": "572b9581"
      },
      "outputs": [],
      "source": [
        "# --- Otro ejercicio: embudos semanales, diarios y mensuales ---\n",
        "# Leer otros conjuntos de datos para comparar\n",
        "ad_data = pd.read_csv(\"datasets/ad_data_2.csv\")\n",
        "site_data = pd.read_csv(\"datasets/site_data_2.csv\")\n",
        "\n",
        "# Combinar ambos datasets\n",
        "funnel_daily = pd.merge(ad_data, site_data, on='date')\n",
        "funnel_daily['ctr, %'] = (funnel_daily['clicks'] / funnel_daily['impressions'] * 100)\n",
        "funnel_daily['cr, %'] = (funnel_daily['registrations'] / funnel_daily['clicks'] * 100)\n",
        "\n",
        "# Convertir fecha a datetime y extraer semana y mes\n",
        "funnel_daily['date'] = pd.to_datetime(funnel_daily['date'])\n",
        "funnel_daily['week'] = funnel_daily['date'].dt.isocalendar().week\n",
        "funnel_daily['month'] = funnel_daily['date'].dt.month\n",
        "\n",
        "# Agrupar por semana\n",
        "funnel_weekly = funnel_daily.groupby('week')[['impressions', 'clicks', 'registrations']].sum()\n",
        "funnel_weekly['ctr, %'] = (funnel_weekly['clicks'] / funnel_weekly['impressions'] * 100)\n",
        "funnel_weekly['cr, %'] = (funnel_weekly['registrations'] / funnel_weekly['clicks'] * 100)\n",
        "\n",
        "# Agrupar por mes\n",
        "funnel_monthly = funnel_daily.groupby('month')[['impressions', 'clicks', 'registrations']].sum()\n",
        "funnel_monthly['ctr, %'] = (funnel_monthly['clicks'] / funnel_monthly['impressions'] * 100)\n",
        "funnel_monthly['cr, %'] = (funnel_monthly['registrations'] / funnel_monthly['clicks'] * 100)\n",
        "\n",
        "print(\"Funnel Monthly:\")\n",
        "print(funnel_monthly)"
      ]
    },
    {
      "cell_type": "markdown",
      "id": "63235d58",
      "metadata": {
        "id": "63235d58"
      },
      "source": [
        "## Ejercicio 5: Embudos de producto simples\n",
        "\n",
        "### Concepto teórico:\n",
        "El análisis de **embudos de producto** se centra en medir la interacción de los usuarios con distintos eventos de una aplicación o plataforma, identificando la cantidad de usuarios únicos en cada evento (por ejemplo, ver una página, enviar un mensaje o completar una acción exitosa).\n",
        "\n",
        "### En este ejercicio:\n",
        "Se calcula la cantidad de usuarios únicos por evento y se visualiza la actividad utilizando tanto agrupaciones numéricas como gráficos de línea."
      ]
    },
    {
      "cell_type": "code",
      "execution_count": null,
      "id": "4d996c7e",
      "metadata": {
        "id": "4d996c7e"
      },
      "outputs": [],
      "source": [
        "import pandas as pd\n",
        "\n",
        "# Leer el archivo CSV con eventos de producto\n",
        "events = pd.read_csv(\"datasets/funnel_prod_events.csv\")\n",
        "\n",
        "# Agrupar los eventos por nombre y contar usuarios únicos\n",
        "users_count = events.groupby('event_name').agg({'uid': 'nunique'}).sort_values(by='uid', ascending=False)\n",
        "print(users_count)"
      ]
    },
    {
      "cell_type": "code",
      "execution_count": null,
      "id": "304f6dcb-6a2d-4722-bebf-140a47374145",
      "metadata": {
        "id": "304f6dcb-6a2d-4722-bebf-140a47374145"
      },
      "outputs": [],
      "source": [
        "users_count.plot(kind='bar')"
      ]
    },
    {
      "cell_type": "code",
      "execution_count": null,
      "id": "cc641964-1389-4fcf-ad25-bf4ed82e3ee7",
      "metadata": {
        "id": "cc641964-1389-4fcf-ad25-bf4ed82e3ee7"
      },
      "outputs": [],
      "source": [
        "events.head()"
      ]
    },
    {
      "cell_type": "code",
      "execution_count": null,
      "id": "15f2bdfc",
      "metadata": {
        "id": "15f2bdfc"
      },
      "outputs": [],
      "source": [
        "import pandas as pd\n",
        "import seaborn as sns\n",
        "import matplotlib.pyplot as plt\n",
        "\n",
        "# Crear un DataFrame con datos fijos para representar la actividad\n",
        "data = pd.DataFrame({\n",
        "    'event_name': ['chat_message', 'pageview', 'success'],\n",
        "    'nunique': [54, 43, 39]\n",
        "})\n",
        "\n",
        "# Graficar la actividad de usuarios únicos\n",
        "sns.lineplot(data=data, x='event_name', y='nunique', marker='o', label='nunique')\n",
        "\n",
        "# Configurar etiquetas y título\n",
        "plt.xlabel('Nombre del evento')\n",
        "plt.ylabel('Cantidad')\n",
        "plt.title('Actividad de usuarios únicos')\n",
        "\n",
        "# Mostrar el gráfico\n",
        "plt.show()"
      ]
    },
    {
      "cell_type": "markdown",
      "id": "385f931b",
      "metadata": {
        "id": "385f931b"
      },
      "source": [
        "## Ejercicio 6: Embudos de productos con secuencia de eventos\n",
        "\n",
        "### Concepto teórico:\n",
        "Este ejercicio se centra en analizar la **secuencia de eventos** que siguen los usuarios dentro de una aplicación, desde la visualización de una página hasta completar una acción (por ejemplo, realizar un pago). El objetivo es determinar en qué pasos del embudo se pierde a la mayor parte de los usuarios y, por tanto, optimizar la experiencia del usuario.\n",
        "\n",
        "### En este ejercicio:\n",
        "Se utiliza una tabla pivote para obtener el primer registro de cada evento por usuario y se cuenta la cantidad de usuarios que completan cada paso del embudo."
      ]
    },
    {
      "cell_type": "code",
      "execution_count": null,
      "id": "1911145c",
      "metadata": {
        "id": "1911145c"
      },
      "outputs": [],
      "source": [
        "import pandas as pd\n",
        "\n",
        "# Leer el CSV con secuencia de eventos\n",
        "events = pd.read_csv(\"datasets/events.csv\")\n",
        "\n",
        "# Crear una tabla pivote para obtener el primer evento de cada tipo por usuario\n",
        "users = events.pivot_table(\n",
        "    index='uid',\n",
        "    columns='event_name',\n",
        "    values='event_time',\n",
        "    aggfunc='min'\n",
        ")\n",
        "\n",
        "# Contar cuántos usuarios tienen registrado el evento 'pageview'\n",
        "pageview_count = users[~users['pageview'].isna()].shape[0]\n",
        "print('Visitantes:', pageview_count)"
      ]
    },
    {
      "cell_type": "code",
      "execution_count": null,
      "id": "d4fae11d-fc3d-4482-bc83-2142bbafca3f",
      "metadata": {
        "id": "d4fae11d-fc3d-4482-bc83-2142bbafca3f"
      },
      "outputs": [],
      "source": [
        "events.groupby('event_name')['event_time'].count().reset_index()"
      ]
    },
    {
      "cell_type": "code",
      "execution_count": null,
      "id": "8377e9ea-3403-4477-8c47-97ca4178a750",
      "metadata": {
        "id": "8377e9ea-3403-4477-8c47-97ca4178a750"
      },
      "outputs": [],
      "source": [
        "events.head()"
      ]
    },
    {
      "cell_type": "code",
      "execution_count": null,
      "id": "7307c358-1eed-4714-ab5b-6745b0dd2e8d",
      "metadata": {
        "id": "7307c358-1eed-4714-ab5b-6745b0dd2e8d"
      },
      "outputs": [],
      "source": [
        "import pandas as pd\n",
        "\n",
        "# Leer los datos nuevamente\n",
        "events = pd.read_csv(\"datasets/events.csv\")\n",
        "\n",
        "# Crear la tabla pivote con el primer registro de cada evento\n",
        "users = events.pivot_table(\n",
        "    index='uid',\n",
        "    columns='event_name',\n",
        "    values='event_time',\n",
        "    aggfunc='min'\n",
        ")"
      ]
    },
    {
      "cell_type": "code",
      "execution_count": null,
      "id": "07d608ce-e037-4222-ae4f-608a64bae4a6",
      "metadata": {
        "id": "07d608ce-e037-4222-ae4f-608a64bae4a6"
      },
      "outputs": [],
      "source": [
        "users"
      ]
    },
    {
      "cell_type": "code",
      "execution_count": null,
      "id": "ec3e4975-3613-4859-8fe2-b47950300f7a",
      "metadata": {
        "id": "ec3e4975-3613-4859-8fe2-b47950300f7a"
      },
      "outputs": [],
      "source": [
        "# Definir pasos del embudo: cada paso se valida que ocurra después del anterior\n",
        "step_1 = users['pageview'].notnull()\n",
        "step_2 = step_1 & (users['add_to_cart'] > users['pageview'])\n",
        "step_3 = step_2 & (users['checkout'] > users['add_to_cart'])\n",
        "step_4 = step_3 & (users['payment'] > users['checkout'])\n"
      ]
    },
    {
      "cell_type": "code",
      "execution_count": null,
      "id": "b6f5584c-a8fd-419f-8fbe-4ad5b35c4417",
      "metadata": {
        "id": "b6f5584c-a8fd-419f-8fbe-4ad5b35c4417"
      },
      "outputs": [],
      "source": [
        "step_4"
      ]
    },
    {
      "cell_type": "code",
      "execution_count": null,
      "id": "d00ab253",
      "metadata": {
        "id": "d00ab253"
      },
      "outputs": [],
      "source": [
        "# Calcular el número de usuarios en cada etapa\n",
        "n_pageview = users[step_1].shape[0]\n",
        "n_add_to_cart = users[step_2].shape[0]\n",
        "n_checkout = users[step_3].shape[0]\n",
        "n_payment = users[step_4].shape[0]\n",
        "\n",
        "# Imprimir los resultados\n",
        "print('Visitantes:', n_pageview)\n",
        "print('Se agregó un producto al carrito:', n_add_to_cart)\n",
        "print('Pago iniciado:', n_checkout)\n",
        "print('Pagado:', n_payment)"
      ]
    },
    {
      "cell_type": "markdown",
      "id": "61dcc319",
      "metadata": {
        "id": "61dcc319"
      },
      "source": [
        "## Segundo momento: Análisis de cohortes\n",
        "\n",
        "El análisis de cohortes es una técnica que agrupa a los usuarios según un evento común (por ejemplo, la primera compra o actividad) para analizar su comportamiento a lo largo del tiempo. Esto permite identificar patrones de retención, abandono y evolución en el comportamiento de los usuarios.\n",
        "\n",
        "En las siguientes secciones se abordarán diferentes aspectos del análisis de cohortes, desde la agrupación inicial hasta la visualización de la retención y la tasa de cancelación."
      ]
    },
    {
      "cell_type": "markdown",
      "id": "762f5dce",
      "metadata": {
        "id": "762f5dce"
      },
      "source": [
        "### Cohorte 1: Análisis de cohortes en Python\n",
        "\n",
        "#### Concepto teórico:\n",
        "En este ejercicio se agrupa a los usuarios por el mes de su primera compra. De esta manera, se puede analizar cuánto gasta cada cohorte de usuarios a lo largo del tiempo. Esto es útil para identificar qué cohortes tienen mayor valor a lo largo de su ciclo de vida.\n",
        "\n",
        "#### En este ejercicio:\n",
        "Se convierte la fecha a un período mensual y se agrupa el gasto total (price) por el primer mes de compra."
      ]
    },
    {
      "cell_type": "code",
      "execution_count": null,
      "id": "388317bb",
      "metadata": {
        "id": "388317bb"
      },
      "outputs": [],
      "source": [
        "import pandas as pd\n",
        "\n",
        "# Leer datos de compras de juegos\n",
        "purchases = pd.read_csv(\"datasets/game_purchases.csv\")\n",
        "\n",
        "purchases.head()"
      ]
    },
    {
      "cell_type": "code",
      "execution_count": null,
      "id": "47a4b246-0369-4b16-8cd3-baff133648f9",
      "metadata": {
        "id": "47a4b246-0369-4b16-8cd3-baff133648f9"
      },
      "outputs": [],
      "source": [
        "purchases.info()"
      ]
    },
    {
      "cell_type": "code",
      "execution_count": null,
      "id": "13cec4c1-8129-4b18-9824-4201434bcaf2",
      "metadata": {
        "id": "13cec4c1-8129-4b18-9824-4201434bcaf2"
      },
      "outputs": [],
      "source": [
        "# Calcular la fecha de la primera compra para cada jugador\n",
        "first_purchase_dates = purchases.groupby('player_id')['purchase_datetime'].min()\n",
        "first_purchase_dates.name = 'first_purchase_datetime'\n",
        "purchases = purchases.join(first_purchase_dates, on='player_id')"
      ]
    },
    {
      "cell_type": "code",
      "execution_count": null,
      "id": "ad8321dd-5218-40a2-bfe4-8e5619b723f3",
      "metadata": {
        "id": "ad8321dd-5218-40a2-bfe4-8e5619b723f3"
      },
      "outputs": [],
      "source": [
        "first_purchase_dates.head()"
      ]
    },
    {
      "cell_type": "code",
      "execution_count": null,
      "id": "88d54183-88cf-455f-886b-3f9e67c3b495",
      "metadata": {
        "id": "88d54183-88cf-455f-886b-3f9e67c3b495"
      },
      "outputs": [],
      "source": [
        "\n",
        "\n",
        "# Convertir las fechas a períodos mensuales para agrupar por mes\n",
        "purchases['purchase_month'] = pd.to_datetime(purchases['purchase_datetime']).dt.to_period('M')\n",
        "purchases['first_purchase_month'] = pd.to_datetime(purchases['first_purchase_datetime']).dt.to_period('M')\n",
        "\n",
        "# Agrupar por el primer mes de compra y sumar el gasto\n",
        "cohort_stats = purchases.groupby('first_purchase_month')['price'].sum()\n",
        "print(cohort_stats)"
      ]
    },
    {
      "cell_type": "markdown",
      "id": "07a18f0b",
      "metadata": {
        "id": "07a18f0b"
      },
      "source": [
        "### Cohorte 2: Evaluación de cambios en los valores absolutos por mes\n",
        "\n",
        "#### Concepto teórico:\n",
        "Este análisis compara, para cada cohorte (definida por el mes de la primera compra), el número de compras y usuarios únicos en distintos meses, permitiendo calcular el promedio de compras por jugador. Esto ayuda a evaluar la fidelidad y actividad de cada cohorte a lo largo del tiempo.\n",
        "\n",
        "#### En este ejercicio:\n",
        "Se agrupan las compras por el mes de la primera compra y el mes de la compra, calculando el promedio de compras por jugador."
      ]
    },
    {
      "cell_type": "code",
      "execution_count": null,
      "id": "2ea1efbc-f97c-4e51-b9dc-f82c8e7409e6",
      "metadata": {
        "id": "2ea1efbc-f97c-4e51-b9dc-f82c8e7409e6"
      },
      "outputs": [],
      "source": [
        "import pandas as pd\n",
        "\n",
        "# Leer datos de compras\n",
        "purchases = pd.read_csv(\"datasets/game_purchases.csv\")\n",
        "\n",
        "# Calcular la primera fecha de compra para cada jugador\n",
        "first_purchase_dates = purchases.groupby('player_id')['purchase_datetime'].min()\n",
        "first_purchase_dates.name = 'first_purchase_datetime'\n",
        "purchases = purchases.join(first_purchase_dates, on='player_id')"
      ]
    },
    {
      "cell_type": "code",
      "execution_count": null,
      "id": "c27396fe-67e1-45f8-b323-61118a8fb671",
      "metadata": {
        "id": "c27396fe-67e1-45f8-b323-61118a8fb671"
      },
      "outputs": [],
      "source": [
        "purchases.head()"
      ]
    },
    {
      "cell_type": "code",
      "execution_count": null,
      "id": "441be579-e7dd-4470-8249-c3eb93213805",
      "metadata": {
        "id": "441be579-e7dd-4470-8249-c3eb93213805"
      },
      "outputs": [],
      "source": [
        "# Convertir las fechas a períodos mensuales\n",
        "purchases['purchase_month'] = pd.to_datetime(purchases['purchase_datetime']).dt.to_period('M')\n",
        "purchases['first_purchase_month'] = pd.to_datetime(purchases['first_purchase_datetime']).dt.to_period('M')\n",
        "\n",
        "purchases.head()"
      ]
    },
    {
      "cell_type": "code",
      "execution_count": null,
      "id": "a0a89dda",
      "metadata": {
        "id": "a0a89dda"
      },
      "outputs": [],
      "source": [
        "# Agrupar por primer mes de compra y mes de compra para calcular métricas\n",
        "purchases_grouped_by_cohorts = purchases.groupby(['first_purchase_month', 'purchase_month']).agg({\n",
        "    'purchase_id': 'nunique',\n",
        "    'player_id': 'nunique'\n",
        "})\n",
        "\n",
        "# Calcular el promedio de compras por jugador\n",
        "purchases_grouped_by_cohorts['purchases_per_player'] = purchases_grouped_by_cohorts['purchase_id'] / purchases_grouped_by_cohorts['player_id']\n",
        "\n",
        "# Crear una tabla pivote para visualizar la evolución de la métrica\n",
        "mean_purchases_pivot = purchases_grouped_by_cohorts.pivot_table(\n",
        "    index='first_purchase_month',\n",
        "    columns='purchase_month',\n",
        "    values='purchases_per_player',\n",
        "    aggfunc='sum'\n",
        ")\n",
        "print(mean_purchases_pivot)"
      ]
    },
    {
      "cell_type": "markdown",
      "id": "8f03213b",
      "metadata": {
        "id": "8f03213b"
      },
      "source": [
        "### Cohorte 3: Evaluación de los cambios en los valores relativos por ciclo de vida\n",
        "\n",
        "#### Concepto teórico:\n",
        "Este ejercicio analiza la evolución del número de compras por jugador a lo largo del tiempo, desde su primera compra. La diferencia en meses entre el primer mes de compra y el mes actual se denomina \"cohort lifetime\" y permite medir cómo varía la actividad de la cohorte.\n",
        "\n",
        "#### En este ejercicio:\n",
        "Se calcula el ciclo de vida de la cohorte en meses y se genera una tabla pivote que muestra el promedio de compras por jugador a lo largo de este ciclo."
      ]
    },
    {
      "cell_type": "code",
      "execution_count": null,
      "id": "77da1f52",
      "metadata": {
        "id": "77da1f52"
      },
      "outputs": [],
      "source": [
        "import pandas as pd\n",
        "import numpy as np\n",
        "\n",
        "# Leer datos de compras\n",
        "purchases = pd.read_csv(\"datasets/game_purchases.csv\")\n",
        "\n",
        "# Calcular la primera fecha de compra para cada jugador\n",
        "first_purchase_dates = purchases.groupby('player_id')['purchase_datetime'].min()\n",
        "first_purchase_dates.name = 'first_purchase_datetime'\n",
        "purchases = purchases.join(first_purchase_dates, on='player_id')\n",
        "\n",
        "# Convertir las fechas a períodos mensuales\n",
        "purchases['purchase_month'] = pd.to_datetime(purchases['purchase_datetime']).dt.to_period('M')\n",
        "purchases['first_purchase_month'] = pd.to_datetime(purchases['first_purchase_datetime']).dt.to_period('M')\n",
        "\n",
        "# Agrupar por primer mes y mes de compra\n",
        "purchases_grouped_by_cohorts = purchases.groupby(['first_purchase_month', 'purchase_month']).agg({\n",
        "    'purchase_id': 'nunique',\n",
        "    'player_id': 'nunique'\n",
        "})\n",
        "\n",
        "# Calcular el promedio de compras por jugador para cada cohorte\n",
        "purchases_grouped_by_cohorts['purchases_per_player'] = purchases_grouped_by_cohorts['purchase_id'] / purchases_grouped_by_cohorts['player_id']\n",
        "\n",
        "# Reiniciar el índice para facilitar los cálculos\n",
        "purchases_grouped_by_cohorts = purchases_grouped_by_cohorts.reset_index()\n",
        "\n",
        "# Calcular la diferencia en meses (cohort lifetime) usando la propiedad .n\n",
        "purchases_grouped_by_cohorts['cohort_lifetime'] = (purchases_grouped_by_cohorts['purchase_month'] - purchases_grouped_by_cohorts['first_purchase_month']).apply(lambda x: x.n)\n",
        "\n",
        "# Crear una tabla pivote para visualizar la evolución de la actividad de la cohorte\n",
        "lifetime_pivot = purchases_grouped_by_cohorts.pivot_table(\n",
        "    index='first_purchase_month',\n",
        "    columns='cohort_lifetime',\n",
        "    values='purchases_per_player',\n",
        "    aggfunc='sum'\n",
        ")\n",
        "print(lifetime_pivot)"
      ]
    },
    {
      "cell_type": "markdown",
      "id": "318be755",
      "metadata": {
        "id": "318be755"
      },
      "source": [
        "### Cohorte 4: Visualización del análisis de cohortes\n",
        "\n",
        "#### Concepto teórico:\n",
        "La visualización mediante mapas de calor es una forma efectiva de representar la evolución de métricas en diferentes cohortes, facilitando la identificación de patrones y áreas de mejora.\n",
        "\n",
        "#### En este ejercicio:\n",
        "Se utiliza un mapa de calor para visualizar el tamaño promedio de compra del cliente a partir de la tabla pivot generada anteriormente."
      ]
    },
    {
      "cell_type": "code",
      "execution_count": null,
      "id": "a43c9ec1-cc93-4c99-9d76-68e9296c13e1",
      "metadata": {
        "id": "a43c9ec1-cc93-4c99-9d76-68e9296c13e1"
      },
      "outputs": [],
      "source": [
        "import seaborn as sns\n",
        "from matplotlib import pyplot as plt\n",
        "import pandas as pd\n",
        "\n",
        "# Leer la tabla pivot generada previamente para visualizar cohortes\n",
        "revenue_per_user_pivot = pd.read_csv(\"datasets/revenue_pivot.csv\")\n",
        "revenue_per_user_pivot = revenue_per_user_pivot.set_index('first_order_month')"
      ]
    },
    {
      "cell_type": "code",
      "execution_count": null,
      "id": "cca54d60-f3dc-4b7f-9234-f1178002c8c4",
      "metadata": {
        "id": "cca54d60-f3dc-4b7f-9234-f1178002c8c4"
      },
      "outputs": [],
      "source": [
        "revenue_per_user_pivot.head()"
      ]
    },
    {
      "cell_type": "code",
      "execution_count": null,
      "id": "f5468ff6",
      "metadata": {
        "id": "f5468ff6"
      },
      "outputs": [],
      "source": [
        "\n",
        "\n",
        "# Configurar la figura\n",
        "plt.figure(figsize=(6, 3))\n",
        "plt.title('Tamaño promedio de compra del cliente')\n",
        "\n",
        "# Crear un mapa de calor con la tabla pivot\n",
        "sns.heatmap(revenue_per_user_pivot, annot=True, fmt='.2f', linewidths=1, linecolor='black')\n",
        "\n",
        "# Mostrar el gráfico\n",
        "plt.show()"
      ]
    },
    {
      "cell_type": "markdown",
      "id": "5c969e5b",
      "metadata": {
        "id": "5c969e5b"
      },
      "source": [
        "### Cohorte 5: Tasa de retención y de cancelación\n",
        "\n",
        "#### Concepto teórico:\n",
        "La **tasa de retención** mide el porcentaje de usuarios que continúan utilizando una aplicación o servicio en periodos sucesivos. La **tasa de cancelación** (churn rate) indica el porcentaje de usuarios que abandonan la plataforma. Estas métricas son fundamentales para evaluar la fidelidad del cliente y el éxito de estrategias de retención.\n",
        "\n",
        "#### En este ejercicio:\n",
        "Se prepara y transforma la información de actividad de usuario para calcular la retención y analizar la evolución de la actividad semanal."
      ]
    },
    {
      "cell_type": "code",
      "execution_count": null,
      "id": "9dc4623f-c972-45d1-9615-366a5a7cc1ae",
      "metadata": {
        "id": "9dc4623f-c972-45d1-9615-366a5a7cc1ae"
      },
      "outputs": [],
      "source": [
        "import pandas as pd\n",
        "\n",
        "# Leer datos de actividad de usuario\n",
        "user_activity = pd.read_csv(\"datasets/work_user_activity.csv\")"
      ]
    },
    {
      "cell_type": "code",
      "execution_count": null,
      "id": "9e3a73b4-ecc2-4272-801e-1c5f243ce16a",
      "metadata": {
        "id": "9e3a73b4-ecc2-4272-801e-1c5f243ce16a"
      },
      "outputs": [],
      "source": [
        "user_activity.head(20)"
      ]
    },
    {
      "cell_type": "code",
      "execution_count": null,
      "id": "8f21c8fa",
      "metadata": {
        "id": "8f21c8fa"
      },
      "outputs": [],
      "source": [
        "# Convertir la columna 'activity_date' a datetime\n",
        "user_activity['activity_date'] = pd.to_datetime(user_activity['activity_date'])\n",
        "\n",
        "# Calcular la primera actividad para cada usuario\n",
        "first_activity_date = user_activity.groupby(['user_id'])['activity_date'].min()\n",
        "first_activity_date.name = 'first_activity_date'\n",
        "user_activity = user_activity.join(first_activity_date, on='user_id')\n",
        "\n",
        "# Calcular el inicio de la semana para cada fecha de actividad\n",
        "user_activity['activity_week'] = pd.to_datetime(user_activity['activity_date']) - pd.to_timedelta(user_activity['activity_date'].dt.dayofweek, unit='d')\n",
        "user_activity['first_activity_week'] = pd.to_datetime(user_activity['first_activity_date']) - pd.to_timedelta(user_activity['first_activity_date'].dt.dayofweek, unit='d')\n",
        "\n",
        "# Mostrar las primeras filas para ver la estructura\n",
        "user_activity.head()"
      ]
    },
    {
      "cell_type": "markdown",
      "id": "4fda9f88",
      "metadata": {
        "id": "4fda9f88"
      },
      "source": [
        "### Cohorte 6: Cálculo de las tasas de retención en Python\n",
        "\n",
        "#### Concepto teórico:\n",
        "El cálculo de la retención por cohorte permite evaluar cuántos usuarios continúan activos en periodos posteriores a su primera actividad. Esto se suele representar en una tabla dinámica donde cada columna indica el tiempo transcurrido desde la primera actividad.\n",
        "\n",
        "#### En este ejercicio:\n",
        "Se calcula el ciclo de vida de cada cohorte en semanas y se genera una tabla pivote que muestra la retención de usuarios."
      ]
    },
    {
      "cell_type": "code",
      "execution_count": null,
      "id": "bad8ed4e",
      "metadata": {
        "id": "bad8ed4e"
      },
      "outputs": [],
      "source": [
        "import pandas as pd\n",
        "import numpy as np\n",
        "\n",
        "# Leer datos de actividad de usuario\n",
        "user_activity = pd.read_csv(\"datasets/work_user_activity.csv\")\n",
        "\n",
        "# Convertir la columna 'activity_date' a datetime\n",
        "user_activity['activity_date'] = pd.to_datetime(user_activity['activity_date'])\n",
        "\n",
        "# Calcular la primera actividad por usuario\n",
        "first_activity_date = user_activity.groupby(['user_id'])['activity_date'].min()\n",
        "first_activity_date.name = 'first_activity_date'\n",
        "user_activity = user_activity.join(first_activity_date, on='user_id')\n",
        "\n",
        "# Calcular el inicio de la semana para cada actividad\n",
        "user_activity['activity_week'] = pd.to_datetime(user_activity['activity_date']) - pd.to_timedelta(user_activity['activity_date'].dt.dayofweek, unit='d')\n",
        "user_activity['first_activity_week'] = pd.to_datetime(user_activity['first_activity_date']) - pd.to_timedelta(user_activity['first_activity_date'].dt.dayofweek, unit='d')\n",
        "\n",
        "# Calcular la duración de la cohorte en semanas\n",
        "user_activity['cohort_lifetime'] = (user_activity['activity_week'] - user_activity['first_activity_week']) / np.timedelta64(1, 'W')\n",
        "user_activity['cohort_lifetime'] = user_activity['cohort_lifetime'].astype(int)\n",
        "\n",
        "# Agrupar por la semana de la primera actividad y el tiempo transcurrido\n",
        "cohorts = user_activity.groupby(['first_activity_week', 'cohort_lifetime']).agg({'user_id': 'nunique'}).reset_index()\n",
        "\n",
        "cohorts.head()"
      ]
    },
    {
      "cell_type": "code",
      "execution_count": null,
      "id": "80e73b77-cfc7-49ca-af4b-218fc04ab7f1",
      "metadata": {
        "id": "80e73b77-cfc7-49ca-af4b-218fc04ab7f1"
      },
      "outputs": [],
      "source": [
        "# Calcular el número inicial de usuarios por cohorte (cuando cohort_lifetime = 0)\n",
        "initial_users_count = cohorts[cohorts['cohort_lifetime'] == 0][['first_activity_week', 'user_id']]\n",
        "initial_users_count = initial_users_count.rename(columns={'user_id': 'cohort_users'})\n",
        "\n",
        "# Unir los datos iniciales a cada cohorte y calcular la tasa de retención\n",
        "cohorts = cohorts.merge(initial_users_count, on='first_activity_week')\n",
        "cohorts['retention'] = cohorts['user_id'] / cohorts['cohort_users']\n",
        "\n",
        "# Crear una tabla pivote para visualizar la retención por cohorte\n",
        "retention_pivot = cohorts.pivot_table(index='first_activity_week', columns='cohort_lifetime', values='retention', aggfunc='sum')\n",
        "print(retention_pivot)"
      ]
    },
    {
      "cell_type": "markdown",
      "id": "e0fb5498",
      "metadata": {
        "id": "e0fb5498"
      },
      "source": [
        "### Cohorte 7: Calcular la tasa de cancelación en Python\n",
        "\n",
        "#### Concepto teórico:\n",
        "La **tasa de cancelación** (churn rate) mide el porcentaje de usuarios que abandonan la plataforma en un periodo determinado. Es una métrica crucial para entender la pérdida de clientes y mejorar estrategias de retención.\n",
        "\n",
        "#### En este ejercicio:\n",
        "Se calcula la tasa de cancelación a partir del número de usuarios en distintos periodos y se visualiza mediante un mapa de calor."
      ]
    },
    {
      "cell_type": "code",
      "execution_count": null,
      "id": "fa1c0ef5",
      "metadata": {
        "id": "fa1c0ef5"
      },
      "outputs": [],
      "source": [
        "import pandas as pd\n",
        "import seaborn as sns\n",
        "from matplotlib import pyplot as plt\n",
        "\n",
        "# Leer datos de churn\n",
        "cohorts = pd.read_csv(\"datasets/churn_rate.csv\")\n",
        "\n",
        "# Calcular la tasa de cancelación mediante el cambio porcentual de usuarios\n",
        "cohorts['churn_rate'] = cohorts.groupby(['first_event_week'])['users_count'].pct_change()\n",
        "\n",
        "# Crear una tabla pivote para visualizar la tasa de cancelación\n",
        "churn_pivot = cohorts.pivot_table(index='first_event_week', columns='lifetime', values='churn_rate', aggfunc='sum')\n",
        "\n",
        "# Configurar la figura y graficar el mapa de calor\n",
        "plt.figure(figsize=(6, 3))\n",
        "plt.title('Churn Rate')\n",
        "sns.heatmap(churn_pivot, annot=True, fmt='.1%', linewidths=1, linecolor='black')\n",
        "plt.show()"
      ]
    },
    {
      "cell_type": "markdown",
      "id": "1350b2f2",
      "metadata": {
        "id": "1350b2f2"
      },
      "source": [
        "### Cohorte 8: Cohortes comportamentales\n",
        "\n",
        "#### Concepto teórico:\n",
        "El análisis de **cohortes comportamentales** se enfoca en segmentar usuarios según su comportamiento. En este caso, se analizan los eventos relacionados con el consumo de café para identificar patrones y determinar si los usuarios muestran un comportamiento objetivo (por ejemplo, consumo frecuente).\n",
        "\n",
        "#### En este ejercicio:\n",
        "Se calcula el tiempo transcurrido entre el primer café y cada evento, se filtran aquellos eventos dentro de los primeros 30 días, y se asigna a los usuarios una etiqueta que indica si cumplen con el comportamiento objetivo."
      ]
    },
    {
      "cell_type": "code",
      "execution_count": null,
      "id": "53b22f9b",
      "metadata": {
        "id": "53b22f9b"
      },
      "outputs": [],
      "source": [
        "import pandas as pd\n",
        "\n",
        "# Leer datos de consumo de café\n",
        "events = pd.read_csv(\"datasets/coffee_home.csv\")\n",
        "\n",
        "# Convertir las columnas de tiempo a tipo datetime\n",
        "events['coffee_time'] = pd.to_datetime(events['coffee_time'])\n",
        "events['first_coffee_datetime'] = pd.to_datetime(events['first_coffee_datetime'])\n",
        "\n",
        "# Calcular el tiempo transcurrido entre el primer café y cada evento\n",
        "events['time_to_event'] = events['coffee_time'] - events['first_coffee_datetime']\n",
        "\n",
        "# Filtrar los eventos que ocurren en menos de 30 días\n",
        "filtered_events = events[events['time_to_event'] < '30 days']\n",
        "\n",
        "# Contar el número de eventos por usuario\n",
        "count_events_by_users = filtered_events.groupby('user_id').agg({'coffee_time': 'count'}).reset_index()\n",
        "count_events_by_users['is_target_behavior'] = count_events_by_users['coffee_time'] > 4\n",
        "\n",
        "# Obtener IDs de usuarios que cumplen o no con el comportamiento objetivo\n",
        "user_ids_with_target_behavior = count_events_by_users.query('is_target_behavior == True')['user_id'].unique()\n",
        "user_ids_without_target_behavior = count_events_by_users.query('is_target_behavior != True')['user_id'].unique()\n",
        "\n",
        "# Asignar etiquetas a los usuarios según su comportamiento\n",
        "events.loc[events['user_id'].isin(user_ids_with_target_behavior), 'is_in_behavioral_cohort'] = 'yes'\n",
        "events.loc[events['user_id'].isin(user_ids_without_target_behavior), 'is_in_behavioral_cohort'] = 'no'\n",
        "\n",
        "def printRetentionRate(df):\n",
        "    # Agrupar los datos por la primera fecha de café y contar el número de usuarios\n",
        "    cohorts = df.groupby(['first_coffee_datetime'], as_index=False).agg({'user_id': 'nunique'})\n",
        "    print(cohorts)\n",
        "\n",
        "printRetentionRate(events[events['is_in_behavioral_cohort'] == 'yes'])"
      ]
    }
  ],
  "metadata": {
    "kernelspec": {
      "display_name": "Python 3 (ipykernel)",
      "language": "python",
      "name": "python3"
    },
    "language_info": {
      "codemirror_mode": {
        "name": "ipython",
        "version": 3
      },
      "file_extension": ".py",
      "mimetype": "text/x-python",
      "name": "python",
      "nbconvert_exporter": "python",
      "pygments_lexer": "ipython3",
      "version": "3.12.3"
    },
    "colab": {
      "provenance": [],
      "include_colab_link": true
    }
  },
  "nbformat": 4,
  "nbformat_minor": 5
}